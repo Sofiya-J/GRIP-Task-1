{
  "nbformat": 4,
  "nbformat_minor": 0,
  "metadata": {
    "colab": {
      "name": "DE code1.ipynb",
      "provenance": []
    },
    "kernelspec": {
      "name": "python3",
      "display_name": "Python 3"
    },
    "language_info": {
      "name": "python"
    }
  },
  "cells": [
    {
      "cell_type": "code",
      "metadata": {
        "id": "nvYHtuKCXOEJ"
      },
      "source": [
        "from sympy.interactive import printing\n",
        "printing.init_printing(use_latex=True)\n",
        "from sympy import *\n",
        "import sympy as sp"
      ],
      "execution_count": 2,
      "outputs": []
    },
    {
      "cell_type": "code",
      "metadata": {
        "colab": {
          "base_uri": "https://localhost:8080/",
          "height": 57
        },
        "id": "lQ0oLMo0XcGt",
        "outputId": "18b53b9d-4e9d-473b-bd00-38fd7397aad5"
      },
      "source": [
        "x, y=sp.symbols('x y')\n",
        "f=sp.Function('f')(x,y)\n",
        "f.diff(x,y)"
      ],
      "execution_count": 3,
      "outputs": [
        {
          "output_type": "execute_result",
          "data": {
            "image/png": "[encoded data removed]",
            "text/latex": "$\\displaystyle \\frac{\\partial^{2}}{\\partial y\\partial x} f{\\left(x,y \\right)}$",
            "text/plain": [
              "   2          \n",
              "  ∂           \n",
              "─────(f(x, y))\n",
              "∂y ∂x         "
            ]
          },
          "metadata": {
            "tags": []
          },
          "execution_count": 3
        }
      ]
    },
    {
      "cell_type": "code",
      "metadata": {
        "colab": {
          "base_uri": "https://localhost:8080/",
          "height": 77
        },
        "id": "r0w2i77hXevF",
        "outputId": "74e6465c-7ec1-4183-b1df-1e785bfc2bfb"
      },
      "source": [
        "x=sp.symbols('x')\n",
        "f=sp.Function('f')(x)\n",
        "diffeq=Eq(f.diff(x,x)-5*f,10)\n",
        "display(diffeq)\n",
        "dsolve(diffeq,f)"
      ],
      "execution_count": 4,
      "outputs": [
        {
          "output_type": "display_data",
          "data": {
            "image/png": "[encoded data removed]",
            "text/latex": "$\\displaystyle - 5 f{\\left(x \\right)} + \\frac{d^{2}}{d x^{2}} f{\\left(x \\right)} = 10$",
            "text/plain": [
              "            2           \n",
              "           d            \n",
              "-5⋅f(x) + ───(f(x)) = 10\n",
              "            2           \n",
              "          dx            "
            ]
          },
          "metadata": {
            "tags": []
          }
        },
        {
          "output_type": "execute_result",
          "data": {
            "image/png": "[encoded data removed]",
            "text/latex": "$\\displaystyle f{\\left(x \\right)} = C_{1} e^{- \\sqrt{5} x} + C_{2} e^{\\sqrt{5} x} - 2$",
            "text/plain": [
              "           -√5⋅x       √5⋅x    \n",
              "f(x) = C₁⋅ℯ      + C₂⋅ℯ     - 2"
            ]
          },
          "metadata": {
            "tags": []
          },
          "execution_count": 4
        }
      ]
    }
  ]
}